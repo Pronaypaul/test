{
 "cells": [
  {
   "cell_type": "code",
   "execution_count": 1,
   "id": "11498d83",
   "metadata": {},
   "outputs": [
    {
     "name": "stdout",
     "output_type": "stream",
     "text": [
      "I am hungry\n"
     ]
    }
   ],
   "source": [
    "print(\"I am hungry\")"
   ]
  },
  {
   "cell_type": "code",
   "execution_count": 3,
   "id": "20d96b20",
   "metadata": {},
   "outputs": [
    {
     "name": "stdout",
     "output_type": "stream",
     "text": [
      "Are you hungry? : yes\n",
      "Please eat some food\n",
      "Eat pizza\n"
     ]
    }
   ],
   "source": [
    "hungry = input(\"Are you hungry? : \")\n",
    "\n",
    "if hungry == \"yes\":\n",
    "    print(\"Please eat some food\")\n",
    "    print (\"Eat pizza\")\n",
    "else:\n",
    "    print(\"Let's make some fun\")"
   ]
  },
  {
   "cell_type": "code",
   "execution_count": 4,
   "id": "db3fa2a4",
   "metadata": {},
   "outputs": [
    {
     "name": "stdout",
     "output_type": "stream",
     "text": [
      "Please change\n"
     ]
    }
   ],
   "source": [
    "print(\"Please change\")"
   ]
  },
  {
   "cell_type": "code",
   "execution_count": null,
   "id": "5a3e7d36",
   "metadata": {},
   "outputs": [],
   "source": []
  }
 ],
 "metadata": {
  "kernelspec": {
   "display_name": "Python 3 (ipykernel)",
   "language": "python",
   "name": "python3"
  },
  "language_info": {
   "codemirror_mode": {
    "name": "ipython",
    "version": 3
   },
   "file_extension": ".py",
   "mimetype": "text/x-python",
   "name": "python",
   "nbconvert_exporter": "python",
   "pygments_lexer": "ipython3",
   "version": "3.9.12"
  }
 },
 "nbformat": 4,
 "nbformat_minor": 5
}
